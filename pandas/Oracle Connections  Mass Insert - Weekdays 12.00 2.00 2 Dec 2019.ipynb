{
 "cells": [
  {
   "cell_type": "code",
   "execution_count": 21,
   "metadata": {},
   "outputs": [],
   "source": [
    "import cx_Oracle as cx\n",
    "con=cx.connect('scott/tiger@localhost:1521/orcl')\n",
    "cur=con.cursor()\n",
    "l=[[1,'Test1'],[2,'Test2'],[3,'Test3'],[4,'Test4']]\n",
    "for l_rec in l:\n",
    "    query='insert into batch_table values('\n",
    "    val=l_rec[0]\n",
    "    val1=l_rec[1]\n",
    "    query=query + str(val) +','+'\\''+str(val1)+'\\')'\n",
    "    cur.execute(query)\n",
    "con.commit()\n",
    "con.close()\n"
   ]
  },
  {
   "cell_type": "code",
   "execution_count": 1,
   "metadata": {},
   "outputs": [],
   "source": [
    "l=[[1,'Test1'],[2,'Test2'],[3,'Test3'],[4,'Test4']]"
   ]
  },
  {
   "cell_type": "code",
   "execution_count": 28,
   "metadata": {},
   "outputs": [
    {
     "name": "stdout",
     "output_type": "stream",
     "text": [
      "insert into batch_table values(1,'Test1')\n",
      "insert into batch_table values(2,'Test2')\n",
      "insert into batch_table values(3,'Test3')\n",
      "insert into batch_table values(4,'Test4')\n"
     ]
    }
   ],
   "source": [
    "for l_rec in l:\n",
    "    #print(l_rec)\n",
    "    query='insert into batch_table values('\n",
    "    val=l_rec[0]\n",
    "    val1=l_rec[1]\n",
    "    query=query + str(val) +','+'\\''+str(val1)+'\\')'\n",
    "    print(query)\n",
    "    "
   ]
  },
  {
   "cell_type": "code",
   "execution_count": 27,
   "metadata": {},
   "outputs": [
    {
     "data": {
      "text/plain": [
       "\"ram's\""
      ]
     },
     "execution_count": 27,
     "metadata": {},
     "output_type": "execute_result"
    }
   ],
   "source": [
    "'ram\\'''s'"
   ]
  },
  {
   "cell_type": "code",
   "execution_count": 59,
   "metadata": {},
   "outputs": [],
   "source": [
    "#t_rec=[(5,'Test5',9000),(6,'Test6',10000),(7,'Test7',50000),(8,'Test8',8000)]\n",
    "t_rec=[(5,'Test5'),(6,'Test6'),(7,'Test7'),(8,'Test8')]\n",
    "t_rec1=[(15,),(16,),(17,),(18,)]"
   ]
  },
  {
   "cell_type": "code",
   "execution_count": 54,
   "metadata": {},
   "outputs": [],
   "source": [
    "import cx_Oracle as cx\n",
    "con=cx.connect('scott/tiger@localhost:1521/orcl')\n",
    "cur=con.cursor()\n",
    "cur.executemany('insert into batch_table values(:1,:2)',t_rec)\n",
    "con.commit()\n"
   ]
  },
  {
   "cell_type": "code",
   "execution_count": 62,
   "metadata": {},
   "outputs": [],
   "source": [
    "import cx_Oracle as cx\n",
    "con=cx.connect('scott/tiger@localhost:1521/orcl')\n",
    "cur=con.cursor()\n",
    "cur.executemany('insert into batch_table (id) values(:1)',t_rec1)\n",
    "con.commit()\n",
    "con.close()"
   ]
  },
  {
   "cell_type": "code",
   "execution_count": 60,
   "metadata": {},
   "outputs": [
    {
     "name": "stdout",
     "output_type": "stream",
     "text": [
      "(15,)\n",
      "(16,)\n",
      "(17,)\n",
      "(18,)\n"
     ]
    }
   ],
   "source": [
    "for t in t_rec1:\n",
    "    print(t)"
   ]
  },
  {
   "cell_type": "code",
   "execution_count": 64,
   "metadata": {},
   "outputs": [
    {
     "name": "stdout",
     "output_type": "stream",
     "text": [
      "(1100, 'NEIL', 'ANALYST', 7839, datetime.datetime(2019, 11, 17, 0, 0), 6000.0, None, 20)\n",
      "(1104, 'R', 'DEVELOPER', 7844, None, 5500.0, None, 10)\n",
      "(7839, 'KING', 'PRESIDENT', None, datetime.datetime(1981, 11, 17, 0, 0), 5000.0, None, 10)\n",
      "(1200, 'Mayank', None, None, None, 5000.0, 0.0, 40)\n",
      "(1000, 'RAZA', 'ANALYST', 1100, None, 3000.0, None, 20)\n",
      "(7902, 'FORD', 'ANALYST', 7566, datetime.datetime(1981, 12, 3, 0, 0), 3000.0, None, 20)\n",
      "(7788, 'SCOTT', 'ANALYST', 7566, datetime.datetime(1987, 4, 19, 0, 0), 3000.0, None, 20)\n",
      "(7566, 'JONES', 'MANAGER', 7839, datetime.datetime(1981, 4, 2, 0, 0), 2975.0, None, 20)\n",
      "(7698, 'BLAKE', 'MANAGER', 7839, datetime.datetime(1981, 5, 1, 0, 0), 2850.0, None, 30)\n",
      "(7782, 'CLARK', 'MANAGER', 7839, datetime.datetime(1981, 6, 9, 0, 0), 2450.0, None, 10)\n",
      "(7499, 'ALLEN', 'SALESMAN', 7698, datetime.datetime(1981, 2, 20, 0, 0), 1600.0, 300.0, 30)\n",
      "(7844, 'TURNER', 'SALESMAN', 7698, datetime.datetime(1981, 9, 8, 0, 0), 1500.0, 0.0, 30)\n",
      "(7934, 'MILLER', 'CLERK', 7782, datetime.datetime(1982, 1, 23, 0, 0), 1300.0, None, 10)\n",
      "(7654, 'MARTIN', 'SALESMAN', 7698, datetime.datetime(1981, 9, 28, 0, 0), 1250.0, 1400.0, 30)\n",
      "(7521, 'WARD', 'SALESMAN', 7698, datetime.datetime(1981, 2, 22, 0, 0), 1250.0, 500.0, 30)\n",
      "(7876, 'ADAMS', 'CLERK', 7788, datetime.datetime(1987, 5, 23, 0, 0), 1100.0, None, 20)\n",
      "(7900, 'JAMES', 'CLERK', 7698, datetime.datetime(1981, 12, 3, 0, 0), 950.0, None, 30)\n",
      "(7369, 'SMITH', 'CLERK', 7902, datetime.datetime(1980, 12, 17, 0, 0), 800.0, None, 20)\n"
     ]
    }
   ],
   "source": [
    "import cx_Oracle as cx\n",
    "con=cx.connect('scott/tiger@localhost:1521/orcl')\n",
    "cur=con.cursor()\n",
    "cur.execute('select * from emp where sal is not null order by sal desc')\n",
    "for c in cur:\n",
    "    print(c)\n",
    "con.commit()\n",
    "con.close()"
   ]
  },
  {
   "cell_type": "code",
   "execution_count": 69,
   "metadata": {},
   "outputs": [
    {
     "name": "stdout",
     "output_type": "stream",
     "text": [
      "the record will print after the second record\n",
      "(7839, 'KING', 'PRESIDENT', None, datetime.datetime(1981, 11, 17, 0, 0), 5000.0, None, 10)\n",
      "(1200, 'Mayank', None, None, None, 5000.0, 0.0, 40)\n",
      "(1000, 'RAZA', 'ANALYST', 1100, None, 3000.0, None, 20)\n",
      "(7902, 'FORD', 'ANALYST', 7566, datetime.datetime(1981, 12, 3, 0, 0), 3000.0, None, 20)\n",
      "(7788, 'SCOTT', 'ANALYST', 7566, datetime.datetime(1987, 4, 19, 0, 0), 3000.0, None, 20)\n",
      "(7566, 'JONES', 'MANAGER', 7839, datetime.datetime(1981, 4, 2, 0, 0), 2975.0, None, 20)\n",
      "(7698, 'BLAKE', 'MANAGER', 7839, datetime.datetime(1981, 5, 1, 0, 0), 2850.0, None, 30)\n",
      "(7782, 'CLARK', 'MANAGER', 7839, datetime.datetime(1981, 6, 9, 0, 0), 2450.0, None, 10)\n",
      "(7499, 'ALLEN', 'SALESMAN', 7698, datetime.datetime(1981, 2, 20, 0, 0), 1600.0, 300.0, 30)\n",
      "(7844, 'TURNER', 'SALESMAN', 7698, datetime.datetime(1981, 9, 8, 0, 0), 1500.0, 0.0, 30)\n",
      "(7934, 'MILLER', 'CLERK', 7782, datetime.datetime(1982, 1, 23, 0, 0), 1300.0, None, 10)\n",
      "(7654, 'MARTIN', 'SALESMAN', 7698, datetime.datetime(1981, 9, 28, 0, 0), 1250.0, 1400.0, 30)\n",
      "(7521, 'WARD', 'SALESMAN', 7698, datetime.datetime(1981, 2, 22, 0, 0), 1250.0, 500.0, 30)\n",
      "(7876, 'ADAMS', 'CLERK', 7788, datetime.datetime(1987, 5, 23, 0, 0), 1100.0, None, 20)\n",
      "(7900, 'JAMES', 'CLERK', 7698, datetime.datetime(1981, 12, 3, 0, 0), 950.0, None, 30)\n",
      "(7369, 'SMITH', 'CLERK', 7902, datetime.datetime(1980, 12, 17, 0, 0), 800.0, None, 20)\n",
      "(1104, 'R', 'DEVELOPER', 7844, None, 5500.0, None, 10)\n"
     ]
    }
   ],
   "source": [
    "import cx_Oracle as cx\n",
    "con=cx.connect('scott/tiger@localhost:1521/orcl')\n",
    "cur=con.cursor()\n",
    "cur.execute('select * from emp where sal is not null order by sal desc')\n",
    "rec=cur.fetchone()\n",
    "rec=cur.fetchone()\n",
    "rec_all=cur.fetchall()\n",
    "print('the record will print after the second record')\n",
    "for r in rec_all:\n",
    "    print(r)\n",
    "print(rec)\n",
    "con.commit()\n",
    "con.close()"
   ]
  },
  {
   "cell_type": "code",
   "execution_count": 70,
   "metadata": {},
   "outputs": [],
   "source": [
    "import pyodbc as py"
   ]
  },
  {
   "cell_type": "code",
   "execution_count": null,
   "metadata": {},
   "outputs": [],
   "source": []
  }
 ],
 "metadata": {
  "kernelspec": {
   "display_name": "Python 3",
   "language": "python",
   "name": "python3"
  },
  "language_info": {
   "codemirror_mode": {
    "name": "ipython",
    "version": 3
   },
   "file_extension": ".py",
   "mimetype": "text/x-python",
   "name": "python",
   "nbconvert_exporter": "python",
   "pygments_lexer": "ipython3",
   "version": "3.7.3"
  }
 },
 "nbformat": 4,
 "nbformat_minor": 2
}
